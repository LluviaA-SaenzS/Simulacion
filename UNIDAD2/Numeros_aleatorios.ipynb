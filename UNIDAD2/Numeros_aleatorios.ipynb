{
  "nbformat": 4,
  "nbformat_minor": 0,
  "metadata": {
    "colab": {
      "provenance": []
    },
    "kernelspec": {
      "name": "python3",
      "display_name": "Python 3"
    },
    "language_info": {
      "name": "python"
    }
  },
  "cells": [
    {
      "cell_type": "markdown",
      "source": [
        "\n",
        "# **Simulacion**\n",
        "\n",
        "## Facilitador: José Gabriel Rodríguez Rivas\n",
        "## Alumna: Lluvia A. Saenz S.\n",
        "\n",
        "### **Generación de números aleatorios en Python**\n",
        "\n",
        "* 100 números aleatorios por el método de centros al cuadrado\n",
        "\n",
        "* 100 números aleatorios por el método de medios cuadrados"
      ],
      "metadata": {
        "id": "CS25yf9shid9"
      }
    },
    {
      "cell_type": "markdown",
      "source": [
        "\n",
        "\n",
        "---\n",
        "\n",
        "## **Centros al Cuadrado**\n",
        "\n",
        "\n",
        "---\n",
        "\n",
        "\n",
        "\n"
      ],
      "metadata": {
        "id": "RJCaPolCc0Ue"
      }
    },
    {
      "cell_type": "markdown",
      "source": [
        "* Se toma un número, se eleva al cuadrado y se extraen los dígitos centrales del\n",
        "resultado cuadrado.\n",
        "\n",
        "* El enfoque se centra en la posición central de los dígitos del cuadrado, considerando que la longitud del cuadrado puede ser variable. 123**4567**890\n",
        "\n",
        "* Por lo general, se suelen extraer un número fijo de dígitos del medio. En el ejemplo siguiente, se tomaron 4 dígitos centrales."
      ],
      "metadata": {
        "id": "X8agrlTGedNE"
      }
    },
    {
      "cell_type": "code",
      "execution_count": 31,
      "metadata": {
        "id": "jpGxL_HHa8GU"
      },
      "outputs": [],
      "source": [
        "def centros_al_cuadrado(seed, n):\n",
        "\n",
        "    random_numbers = [] # lista para los numeros\n",
        "\n",
        "    for _ in range(n):\n",
        "        #cuadramos\n",
        "        squared = str(seed ** 2).zfill(8)  # minimo de digitos (8)\n",
        "\n",
        "        middle_digits = squared[len(squared)//2 - 2:len(squared)//2 + 2] #numeros centrales\n",
        "\n",
        "        #convertirlo en aleatorio\n",
        "        seed = int(middle_digits)\n",
        "        random_numbers.append(seed)\n",
        "\n",
        "    return random_numbers"
      ]
    },
    {
      "cell_type": "code",
      "source": [
        "seed = 33664  #seed inicial\n",
        "n = 100  #cantidad numeros\n",
        "\n",
        "numeros_aleatorios = centros_al_cuadrado(seed, n)\n",
        "\n",
        "#Imprimir\n",
        "for i, num in enumerate(numeros_aleatorios):\n",
        "    print(f\"Número {i+1}: {num}\")"
      ],
      "metadata": {
        "colab": {
          "base_uri": "https://localhost:8080/"
        },
        "collapsed": true,
        "id": "9trLV_tvchOz",
        "outputId": "3230234c-7a1c-415c-c78d-25a06e62435b"
      },
      "execution_count": 32,
      "outputs": [
        {
          "output_type": "stream",
          "name": "stdout",
          "text": [
            "Número 1: 3264\n",
            "Número 2: 6536\n",
            "Número 3: 7192\n",
            "Número 4: 7248\n",
            "Número 5: 5335\n",
            "Número 6: 4622\n",
            "Número 7: 3628\n",
            "Número 8: 1623\n",
            "Número 9: 6341\n",
            "Número 10: 2082\n",
            "Número 11: 3347\n",
            "Número 12: 2024\n",
            "Número 13: 965\n",
            "Número 14: 9312\n",
            "Número 15: 7133\n",
            "Número 16: 8796\n",
            "Número 17: 3696\n",
            "Número 18: 6604\n",
            "Número 19: 6128\n",
            "Número 20: 5523\n",
            "Número 21: 5035\n",
            "Número 22: 3512\n",
            "Número 23: 3341\n",
            "Número 24: 1622\n",
            "Número 25: 6308\n",
            "Número 26: 7908\n",
            "Número 27: 5364\n",
            "Número 28: 7724\n",
            "Número 29: 6601\n",
            "Número 30: 5732\n",
            "Número 31: 8558\n",
            "Número 32: 2393\n",
            "Número 33: 7264\n",
            "Número 34: 7656\n",
            "Número 35: 6143\n",
            "Número 36: 7364\n",
            "Número 37: 2284\n",
            "Número 38: 2166\n",
            "Número 39: 6915\n",
            "Número 40: 8172\n",
            "Número 41: 7815\n",
            "Número 42: 742\n",
            "Número 43: 5505\n",
            "Número 44: 3050\n",
            "Número 45: 3025\n",
            "Número 46: 1506\n",
            "Número 47: 2680\n",
            "Número 48: 1824\n",
            "Número 49: 3269\n",
            "Número 50: 6863\n",
            "Número 51: 1007\n",
            "Número 52: 140\n",
            "Número 53: 196\n",
            "Número 54: 384\n",
            "Número 55: 1474\n",
            "Número 56: 1726\n",
            "Número 57: 9790\n",
            "Número 58: 8441\n",
            "Número 59: 2504\n",
            "Número 60: 2700\n",
            "Número 61: 2900\n",
            "Número 62: 4100\n",
            "Número 63: 8100\n",
            "Número 64: 6100\n",
            "Número 65: 2100\n",
            "Número 66: 4100\n",
            "Número 67: 8100\n",
            "Número 68: 6100\n",
            "Número 69: 2100\n",
            "Número 70: 4100\n",
            "Número 71: 8100\n",
            "Número 72: 6100\n",
            "Número 73: 2100\n",
            "Número 74: 4100\n",
            "Número 75: 8100\n",
            "Número 76: 6100\n",
            "Número 77: 2100\n",
            "Número 78: 4100\n",
            "Número 79: 8100\n",
            "Número 80: 6100\n",
            "Número 81: 2100\n",
            "Número 82: 4100\n",
            "Número 83: 8100\n",
            "Número 84: 6100\n",
            "Número 85: 2100\n",
            "Número 86: 4100\n",
            "Número 87: 8100\n",
            "Número 88: 6100\n",
            "Número 89: 2100\n",
            "Número 90: 4100\n",
            "Número 91: 8100\n",
            "Número 92: 6100\n",
            "Número 93: 2100\n",
            "Número 94: 4100\n",
            "Número 95: 8100\n",
            "Número 96: 6100\n",
            "Número 97: 2100\n",
            "Número 98: 4100\n",
            "Número 99: 8100\n",
            "Número 100: 6100\n"
          ]
        }
      ]
    },
    {
      "cell_type": "markdown",
      "source": [
        "\n",
        "\n",
        "---\n",
        "\n",
        "## **Medios Cuadrados**\n",
        "\n",
        "\n",
        "---\n",
        "\n",
        "\n"
      ],
      "metadata": {
        "id": "IcSAXda4ciyT"
      }
    },
    {
      "cell_type": "markdown",
      "source": [
        "* Similar al de centros al cuadrado, pero se enfoca en obtener los dígitos centrales de una manera más específica, a menudo extrayendo un número definido de dígitos del medio.\n",
        "\n",
        "* Al igual que en el método anterior, se extraen los dígitos centrales, pero el enfoque puede variar según el número de dígitos que se consideren, a menudo tomando un número fijo de dígitos (por ejemplo, 4 dígitos).\n",
        "\n",
        "* Dependiendo de cómo se defina la semilla y el número de dígitos a extraer, el método puede tener un rango de resultados más variado."
      ],
      "metadata": {
        "id": "94oL9ompfMqr"
      }
    },
    {
      "cell_type": "code",
      "source": [
        "def medios_al_cuadrado(seed, n):\n",
        "\n",
        "    random_numbers2 = [] # lista para los numeros\n",
        "\n",
        "    for _ in range(n):\n",
        "        #Cuadrar\n",
        "        squared = str(seed ** 2).zfill(8) #minimo de digitos (8)\n",
        "\n",
        "        # Obtener los dígitos centrales (4 dígitos)\n",
        "        mid_index = len(squared) // 2\n",
        "        middle_digits = squared[mid_index - 2:mid_index + 2]\n",
        "\n",
        "       #convertirlo en aleatorio\n",
        "        seed = int(middle_digits)\n",
        "        random_numbers2.append(seed)\n",
        "\n",
        "    return random_numbers2"
      ],
      "metadata": {
        "id": "7ckQ8LDgcPBx"
      },
      "execution_count": 28,
      "outputs": []
    },
    {
      "cell_type": "code",
      "source": [
        "\n",
        "seed = 33664  #seed\n",
        "n = 100  #numeros a generar\n",
        "\n",
        "numeros_aleatorios = medios_al_cuadrado(seed, n)\n",
        "\n",
        "#Imprimir\n",
        "for i, num in enumerate(numeros_aleatorios):\n",
        "    print(f\"Número {i+1}: {num}\")"
      ],
      "metadata": {
        "colab": {
          "base_uri": "https://localhost:8080/"
        },
        "id": "YwMNHeIxccmi",
        "outputId": "bf00f17f-b89d-42e7-d7d3-a8173ad89e87"
      },
      "execution_count": 29,
      "outputs": [
        {
          "output_type": "stream",
          "name": "stdout",
          "text": [
            "Número 1: 3264\n",
            "Número 2: 6536\n",
            "Número 3: 7192\n",
            "Número 4: 7248\n",
            "Número 5: 5335\n",
            "Número 6: 4622\n",
            "Número 7: 3628\n",
            "Número 8: 1623\n",
            "Número 9: 6341\n",
            "Número 10: 2082\n",
            "Número 11: 3347\n",
            "Número 12: 2024\n",
            "Número 13: 965\n",
            "Número 14: 9312\n",
            "Número 15: 7133\n",
            "Número 16: 8796\n",
            "Número 17: 3696\n",
            "Número 18: 6604\n",
            "Número 19: 6128\n",
            "Número 20: 5523\n",
            "Número 21: 5035\n",
            "Número 22: 3512\n",
            "Número 23: 3341\n",
            "Número 24: 1622\n",
            "Número 25: 6308\n",
            "Número 26: 7908\n",
            "Número 27: 5364\n",
            "Número 28: 7724\n",
            "Número 29: 6601\n",
            "Número 30: 5732\n",
            "Número 31: 8558\n",
            "Número 32: 2393\n",
            "Número 33: 7264\n",
            "Número 34: 7656\n",
            "Número 35: 6143\n",
            "Número 36: 7364\n",
            "Número 37: 2284\n",
            "Número 38: 2166\n",
            "Número 39: 6915\n",
            "Número 40: 8172\n",
            "Número 41: 7815\n",
            "Número 42: 742\n",
            "Número 43: 5505\n",
            "Número 44: 3050\n",
            "Número 45: 3025\n",
            "Número 46: 1506\n",
            "Número 47: 2680\n",
            "Número 48: 1824\n",
            "Número 49: 3269\n",
            "Número 50: 6863\n",
            "Número 51: 1007\n",
            "Número 52: 140\n",
            "Número 53: 196\n",
            "Número 54: 384\n",
            "Número 55: 1474\n",
            "Número 56: 1726\n",
            "Número 57: 9790\n",
            "Número 58: 8441\n",
            "Número 59: 2504\n",
            "Número 60: 2700\n",
            "Número 61: 2900\n",
            "Número 62: 4100\n",
            "Número 63: 8100\n",
            "Número 64: 6100\n",
            "Número 65: 2100\n",
            "Número 66: 4100\n",
            "Número 67: 8100\n",
            "Número 68: 6100\n",
            "Número 69: 2100\n",
            "Número 70: 4100\n",
            "Número 71: 8100\n",
            "Número 72: 6100\n",
            "Número 73: 2100\n",
            "Número 74: 4100\n",
            "Número 75: 8100\n",
            "Número 76: 6100\n",
            "Número 77: 2100\n",
            "Número 78: 4100\n",
            "Número 79: 8100\n",
            "Número 80: 6100\n",
            "Número 81: 2100\n",
            "Número 82: 4100\n",
            "Número 83: 8100\n",
            "Número 84: 6100\n",
            "Número 85: 2100\n",
            "Número 86: 4100\n",
            "Número 87: 8100\n",
            "Número 88: 6100\n",
            "Número 89: 2100\n",
            "Número 90: 4100\n",
            "Número 91: 8100\n",
            "Número 92: 6100\n",
            "Número 93: 2100\n",
            "Número 94: 4100\n",
            "Número 95: 8100\n",
            "Número 96: 6100\n",
            "Número 97: 2100\n",
            "Número 98: 4100\n",
            "Número 99: 8100\n",
            "Número 100: 6100\n"
          ]
        }
      ]
    }
  ]
}