{
  "nbformat": 4,
  "nbformat_minor": 0,
  "metadata": {
    "colab": {
      "provenance": []
    },
    "kernelspec": {
      "name": "python3",
      "display_name": "Python 3"
    },
    "language_info": {
      "name": "python"
    }
  },
  "cells": [
    {
      "cell_type": "markdown",
      "source": [
        "# **Simulacion**\n",
        "## Facilitador: José Gabriel Rodríguez Rivas\n",
        "## Alumna: Lluvia A. Saenz S.\n",
        "---\n"
      ],
      "metadata": {
        "id": "Knj4ToPTFKBS"
      }
    },
    {
      "cell_type": "markdown",
      "source": [
        "# **La prueba de Kolmogorov-Smirnov (KS)**\n",
        "\n",
        "**Compara una muestra con una distribución** teórica  o dos muestras entre sí para determinar si siguen una distribución específica o si provienen de la misma distribución.\n",
        "\n",
        "Esto es especialmente útil porque **no requiere asumir ningún tipo de distribución particular**."
      ],
      "metadata": {
        "id": "V03yePdVByaV"
      }
    },
    {
      "cell_type": "markdown",
      "source": [
        " * Realizar 100 números aleatorios y realice la prueba de uniformidad de Kolmogorov-Smirnov\n",
        " ---"
      ],
      "metadata": {
        "id": "fPq0qfZKEd6f"
      }
    },
    {
      "cell_type": "code",
      "execution_count": 1,
      "metadata": {
        "id": "UmjkfAy8AjKq"
      },
      "outputs": [],
      "source": [
        "import numpy as np\n",
        "from scipy import stats\n",
        "import matplotlib.pyplot as plt"
      ]
    },
    {
      "cell_type": "code",
      "source": [
        "random_numbers = np.random.uniform(0, 1, 100) # Entre 0 y 1 genera numeros aleatorios uniformes\n",
        "\n",
        "ks_statistic, p_value = stats.kstest(random_numbers, 'uniform') # funcion kstest dstribucion uniforme\n",
        "\n",
        "# Imprimir resultados\n",
        "print(f\"Estadístico KS: {ks_statistic}\")\n",
        "print(f\"Valor p: {p_value}\")"
      ],
      "metadata": {
        "colab": {
          "base_uri": "https://localhost:8080/"
        },
        "id": "zqGpmV_9BRsL",
        "outputId": "e05e0c1c-21bd-4f08-8128-5e5861df421b"
      },
      "execution_count": 7,
      "outputs": [
        {
          "output_type": "stream",
          "name": "stdout",
          "text": [
            "Estadístico KS: 0.11352340941171574\n",
            "Valor p: 0.14054197732076779\n"
          ]
        }
      ]
    },
    {
      "cell_type": "markdown",
      "source": [
        "* **Valor KS:** mide la mayor diferencia absoluta entre las funciones de distribución acumulativa (CDF) de los datos observados y la distribución teórica.\n",
        "\n",
        "* **Valor p:** Es el resultado de la prueba y se calcula a partir de los datos. Indica la probabilidad de que los datos observados (o más extremos) ocurran si la hipótesis nula es verdadera.\n",
        "\n",
        "* **Nivel de significancia (α):** Es un umbral predefinido que nos ayuda a decidir si rechazamos o no la hipótesis nula.\n",
        " * No es un valor fijo y puede ajustarse según las necesidades del estudio o experimento. 0.05 es el valor más común. Significa que estamos dispuestos a aceptar un 5% de probabilidad de rechazar incorrectamente la hipótesis nula.\n",
        "\n",
        "**Interpretación del valor p**\n",
        "\n",
        "* Si el valor p es **mayor** que 0.05 (u otro valor que se haya elegido como nivel de significancia), no se rechaza la hipótesis nula. Esto significa que no hay evidencia suficiente para decir que la distribución de los datos es diferente de la distribución teórica (en este caso, una distribución uniforme).\n",
        "\n",
        "* Si el valor p es **menor** que 0.05, se rechaza la hipótesis nula, lo que indicaría que los datos no siguen la distribución teórica."
      ],
      "metadata": {
        "id": "K7PMol7rF7Cg"
      }
    },
    {
      "cell_type": "code",
      "source": [
        "alpha = 0.05\n",
        "if p_value > alpha:\n",
        "    print(\"Hipótesis nula: los datos siguen una distribución uniforme.\")\n",
        "else:\n",
        "    print(\"Hipotesis alternativa: los datos no siguen una distribución uniforme.\")"
      ],
      "metadata": {
        "colab": {
          "base_uri": "https://localhost:8080/"
        },
        "id": "CA6ZfcwHBTJD",
        "outputId": "1688f604-64c6-4142-980c-1afb182af7e4"
      },
      "execution_count": 5,
      "outputs": [
        {
          "output_type": "stream",
          "name": "stdout",
          "text": [
            "Hipótesis nula: los datos siguen una distribución uniforme.\n"
          ]
        }
      ]
    },
    {
      "cell_type": "code",
      "source": [
        "plt.hist(random_numbers, bins=10, edgecolor='black')\n",
        "plt.title('Histograma de 100 números aleatorios uniformes')\n",
        "plt.xlabel('Valor')\n",
        "plt.ylabel('Frecuencia')\n",
        "plt.show()"
      ],
      "metadata": {
        "colab": {
          "base_uri": "https://localhost:8080/",
          "height": 472
        },
        "id": "WhnydXw3BaTz",
        "outputId": "ec3022c9-6d34-4456-f08f-dd2ec21b3bdd"
      },
      "execution_count": 4,
      "outputs": [
        {
          "output_type": "display_data",
          "data": {
            "text/plain": [
              "<Figure size 640x480 with 1 Axes>"
            ],
            "image/png": "[encoded data removed]"
          },
          "metadata": {}
        }
      ]
    }
  ]
}